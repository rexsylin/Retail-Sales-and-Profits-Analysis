{
 "cells": [
  {
   "cell_type": "markdown",
   "metadata": {},
   "source": [
    "## Objective:\n",
    "The database contains retails data for a hypothetical company accross Australia and North America. The general task is to conduct meaningful data analysis on the data and generate business insights to help the company optimize their decision.\n",
    "Here are some objective of this project:\n",
    "\n",
    "1 Compare the sales and gross profits generation performance among different states and between different chains.\n",
    "\n",
    "2 Compare the Sales and gross profits generation performance of different categories.\n",
    "\n",
    "3 Find out the manager with highest sales, gross profits, ROI.\n",
    "\n",
    "4 Find out the trend and seasonality of total sales and total gross profits."
   ]
  },
  {
   "cell_type": "code",
   "execution_count": 1,
   "metadata": {},
   "outputs": [],
   "source": [
    "import pyodbc\n",
    "import numpy as np\n",
    "import pandas as pd\n",
    "import seaborn as sns\n",
    "import matplotlib.pyplot as plt"
   ]
  },
  {
   "cell_type": "markdown",
   "metadata": {},
   "source": [
    "### Driver setup"
   ]
  },
  {
   "cell_type": "code",
   "execution_count": 2,
   "metadata": {},
   "outputs": [],
   "source": [
    "myDataSources = pyodbc.dataSources()"
   ]
  },
  {
   "cell_type": "code",
   "execution_count": 3,
   "metadata": {},
   "outputs": [],
   "source": [
    "myDataSources = pyodbc.dataSources()\n",
    "access_driver = myDataSources['MS Access Database']\n",
    "driver = access_driver"
   ]
  },
  {
   "cell_type": "code",
   "execution_count": 4,
   "metadata": {},
   "outputs": [],
   "source": [
    "filepath= r'C:\\Users\\30523\\Course work\\Retail.accdb'"
   ]
  },
  {
   "cell_type": "markdown",
   "metadata": {},
   "source": [
    "### Connect to the database"
   ]
  },
  {
   "cell_type": "code",
   "execution_count": 5,
   "metadata": {},
   "outputs": [],
   "source": [
    "# create a connection to the database\n",
    "conn = pyodbc.connect(driver = driver, dbq = filepath, autocommit = True)\n",
    "crsr = conn.cursor()"
   ]
  },
  {
   "cell_type": "code",
   "execution_count": 6,
   "metadata": {},
   "outputs": [],
   "source": [
    "# grab all the tables\n",
    "tables_list = list(crsr.tables())"
   ]
  },
  {
   "cell_type": "code",
   "execution_count": 7,
   "metadata": {},
   "outputs": [
    {
     "data": {
      "text/plain": [
       "[('C:\\\\Users\\\\30523\\\\Course work\\\\Retail.accdb', None, 'MSysAccessStorage', 'SYSTEM TABLE', None),\n",
       " ('C:\\\\Users\\\\30523\\\\Course work\\\\Retail.accdb', None, 'MSysAccessXML', 'SYSTEM TABLE', None),\n",
       " ('C:\\\\Users\\\\30523\\\\Course work\\\\Retail.accdb', None, 'MSysACEs', 'SYSTEM TABLE', None),\n",
       " ('C:\\\\Users\\\\30523\\\\Course work\\\\Retail.accdb', None, 'MSysComplexColumns', 'SYSTEM TABLE', None),\n",
       " ('C:\\\\Users\\\\30523\\\\Course work\\\\Retail.accdb', None, 'MSysIMEXColumns', 'SYSTEM TABLE', None),\n",
       " ('C:\\\\Users\\\\30523\\\\Course work\\\\Retail.accdb', None, 'MSysIMEXSpecs', 'SYSTEM TABLE', None),\n",
       " ('C:\\\\Users\\\\30523\\\\Course work\\\\Retail.accdb', None, 'MSysNameMap', 'SYSTEM TABLE', None),\n",
       " ('C:\\\\Users\\\\30523\\\\Course work\\\\Retail.accdb', None, 'MSysNavPaneGroupCategories', 'SYSTEM TABLE', None),\n",
       " ('C:\\\\Users\\\\30523\\\\Course work\\\\Retail.accdb', None, 'MSysNavPaneGroups', 'SYSTEM TABLE', None),\n",
       " ('C:\\\\Users\\\\30523\\\\Course work\\\\Retail.accdb', None, 'MSysNavPaneGroupToObjects', 'SYSTEM TABLE', None),\n",
       " ('C:\\\\Users\\\\30523\\\\Course work\\\\Retail.accdb', None, 'MSysNavPaneObjectIDs', 'SYSTEM TABLE', None),\n",
       " ('C:\\\\Users\\\\30523\\\\Course work\\\\Retail.accdb', None, 'MSysObjects', 'SYSTEM TABLE', None),\n",
       " ('C:\\\\Users\\\\30523\\\\Course work\\\\Retail.accdb', None, 'MSysQueries', 'SYSTEM TABLE', None),\n",
       " ('C:\\\\Users\\\\30523\\\\Course work\\\\Retail.accdb', None, 'MSysRelationships', 'SYSTEM TABLE', None),\n",
       " ('C:\\\\Users\\\\30523\\\\Course work\\\\Retail.accdb', None, 'MSysResources', 'SYSTEM TABLE', None),\n",
       " ('C:\\\\Users\\\\30523\\\\Course work\\\\Retail.accdb', None, 'Category', 'TABLE', None),\n",
       " ('C:\\\\Users\\\\30523\\\\Course work\\\\Retail.accdb', None, 'Date_table', 'TABLE', None),\n",
       " ('C:\\\\Users\\\\30523\\\\Course work\\\\Retail.accdb', None, 'State', 'TABLE', None),\n",
       " ('C:\\\\Users\\\\30523\\\\Course work\\\\Retail.accdb', None, 'Suburb', 'TABLE', None),\n",
       " ('C:\\\\Users\\\\30523\\\\Course work\\\\Retail.accdb', None, 'Transaction', 'TABLE', None),\n",
       " ('C:\\\\Users\\\\30523\\\\Course work\\\\Retail.accdb', None, 'Transaction2', 'TABLE', None)]"
      ]
     },
     "execution_count": 7,
     "metadata": {},
     "output_type": "execute_result"
    }
   ],
   "source": [
    "tables_list"
   ]
  },
  {
   "cell_type": "markdown",
   "metadata": {},
   "source": [
    "### Take a look at these 5 tables"
   ]
  },
  {
   "cell_type": "code",
   "execution_count": 8,
   "metadata": {},
   "outputs": [
    {
     "data": {
      "text/html": [
       "<div>\n",
       "<style scoped>\n",
       "    .dataframe tbody tr th:only-of-type {\n",
       "        vertical-align: middle;\n",
       "    }\n",
       "\n",
       "    .dataframe tbody tr th {\n",
       "        vertical-align: top;\n",
       "    }\n",
       "\n",
       "    .dataframe thead th {\n",
       "        text-align: right;\n",
       "    }\n",
       "</style>\n",
       "<table border=\"1\" class=\"dataframe\">\n",
       "  <thead>\n",
       "    <tr style=\"text-align: right;\">\n",
       "      <th></th>\n",
       "      <th>Category</th>\n",
       "      <th>Buyer</th>\n",
       "    </tr>\n",
       "  </thead>\n",
       "  <tbody>\n",
       "    <tr>\n",
       "      <th>0</th>\n",
       "      <td>Accessories</td>\n",
       "      <td>Maggie Mayer</td>\n",
       "    </tr>\n",
       "    <tr>\n",
       "      <th>1</th>\n",
       "      <td>Groceries</td>\n",
       "      <td>Chris Monroe</td>\n",
       "    </tr>\n",
       "    <tr>\n",
       "      <th>2</th>\n",
       "      <td>Home</td>\n",
       "      <td>Richard Carr</td>\n",
       "    </tr>\n",
       "    <tr>\n",
       "      <th>3</th>\n",
       "      <td>Hosiery</td>\n",
       "      <td>Ella Hickman</td>\n",
       "    </tr>\n",
       "    <tr>\n",
       "      <th>4</th>\n",
       "      <td>Intimate</td>\n",
       "      <td>Sara Ferrell</td>\n",
       "    </tr>\n",
       "    <tr>\n",
       "      <th>5</th>\n",
       "      <td>Juniors</td>\n",
       "      <td>Chester George</td>\n",
       "    </tr>\n",
       "    <tr>\n",
       "      <th>6</th>\n",
       "      <td>Kids</td>\n",
       "      <td>Elizabeth Gentry</td>\n",
       "    </tr>\n",
       "    <tr>\n",
       "      <th>7</th>\n",
       "      <td>Mens</td>\n",
       "      <td>Bruce Curran</td>\n",
       "    </tr>\n",
       "    <tr>\n",
       "      <th>8</th>\n",
       "      <td>Shoes</td>\n",
       "      <td>Howard Wright</td>\n",
       "    </tr>\n",
       "    <tr>\n",
       "      <th>9</th>\n",
       "      <td>Womens</td>\n",
       "      <td>Amy Buchanan</td>\n",
       "    </tr>\n",
       "  </tbody>\n",
       "</table>\n",
       "</div>"
      ],
      "text/plain": [
       "      Category             Buyer\n",
       "0  Accessories      Maggie Mayer\n",
       "1    Groceries      Chris Monroe\n",
       "2         Home      Richard Carr\n",
       "3      Hosiery      Ella Hickman\n",
       "4     Intimate      Sara Ferrell\n",
       "5      Juniors    Chester George\n",
       "6         Kids  Elizabeth Gentry\n",
       "7         Mens      Bruce Curran\n",
       "8        Shoes     Howard Wright\n",
       "9       Womens      Amy Buchanan"
      ]
     },
     "execution_count": 8,
     "metadata": {},
     "output_type": "execute_result"
    }
   ],
   "source": [
    "# Category table, which connects category with buyers\n",
    "pd.read_sql(\"\"\"SELECT * FROM Category;\"\"\",conn)"
   ]
  },
  {
   "cell_type": "code",
   "execution_count": 9,
   "metadata": {},
   "outputs": [
    {
     "data": {
      "text/html": [
       "<div>\n",
       "<style scoped>\n",
       "    .dataframe tbody tr th:only-of-type {\n",
       "        vertical-align: middle;\n",
       "    }\n",
       "\n",
       "    .dataframe tbody tr th {\n",
       "        vertical-align: top;\n",
       "    }\n",
       "\n",
       "    .dataframe thead th {\n",
       "        text-align: right;\n",
       "    }\n",
       "</style>\n",
       "<table border=\"1\" class=\"dataframe\">\n",
       "  <thead>\n",
       "    <tr style=\"text-align: right;\">\n",
       "      <th></th>\n",
       "      <th>ID</th>\n",
       "      <th>Date</th>\n",
       "      <th>Chain</th>\n",
       "      <th>Postcode</th>\n",
       "      <th>Category</th>\n",
       "      <th>Total_Units</th>\n",
       "      <th>Sale_Price</th>\n",
       "      <th>Cost_Price</th>\n",
       "      <th>Total Sales</th>\n",
       "      <th>Total Cost</th>\n",
       "      <th>Profits</th>\n",
       "    </tr>\n",
       "  </thead>\n",
       "  <tbody>\n",
       "    <tr>\n",
       "      <th>0</th>\n",
       "      <td>1</td>\n",
       "      <td>2016-01-01</td>\n",
       "      <td>Bellings</td>\n",
       "      <td>2131.0</td>\n",
       "      <td>Juniors</td>\n",
       "      <td>22.0</td>\n",
       "      <td>4.99</td>\n",
       "      <td>5.28</td>\n",
       "      <td>109.78</td>\n",
       "      <td>116.16</td>\n",
       "      <td>-6.38</td>\n",
       "    </tr>\n",
       "    <tr>\n",
       "      <th>1</th>\n",
       "      <td>2</td>\n",
       "      <td>2016-01-01</td>\n",
       "      <td>Ready Wear</td>\n",
       "      <td>2617.0</td>\n",
       "      <td>Accessories</td>\n",
       "      <td>159.0</td>\n",
       "      <td>3.72</td>\n",
       "      <td>3.76</td>\n",
       "      <td>591.48</td>\n",
       "      <td>597.84</td>\n",
       "      <td>-6.36</td>\n",
       "    </tr>\n",
       "    <tr>\n",
       "      <th>2</th>\n",
       "      <td>3</td>\n",
       "      <td>2016-01-01</td>\n",
       "      <td>Bellings</td>\n",
       "      <td>6021.0</td>\n",
       "      <td>Juniors</td>\n",
       "      <td>5.0</td>\n",
       "      <td>3.30</td>\n",
       "      <td>4.55</td>\n",
       "      <td>16.50</td>\n",
       "      <td>22.75</td>\n",
       "      <td>-6.25</td>\n",
       "    </tr>\n",
       "    <tr>\n",
       "      <th>3</th>\n",
       "      <td>4</td>\n",
       "      <td>2016-01-01</td>\n",
       "      <td>Ready Wear</td>\n",
       "      <td>2020.0</td>\n",
       "      <td>Womens</td>\n",
       "      <td>-1.0</td>\n",
       "      <td>9.99</td>\n",
       "      <td>3.75</td>\n",
       "      <td>-9.99</td>\n",
       "      <td>-3.75</td>\n",
       "      <td>-6.24</td>\n",
       "    </tr>\n",
       "    <tr>\n",
       "      <th>4</th>\n",
       "      <td>5</td>\n",
       "      <td>2016-01-01</td>\n",
       "      <td>Ready Wear</td>\n",
       "      <td>2067.0</td>\n",
       "      <td>Womens</td>\n",
       "      <td>11.0</td>\n",
       "      <td>4.27</td>\n",
       "      <td>4.82</td>\n",
       "      <td>46.97</td>\n",
       "      <td>53.02</td>\n",
       "      <td>-6.05</td>\n",
       "    </tr>\n",
       "  </tbody>\n",
       "</table>\n",
       "</div>"
      ],
      "text/plain": [
       "   ID       Date       Chain  Postcode     Category  Total_Units  Sale_Price  \\\n",
       "0   1 2016-01-01    Bellings    2131.0      Juniors         22.0        4.99   \n",
       "1   2 2016-01-01  Ready Wear    2617.0  Accessories        159.0        3.72   \n",
       "2   3 2016-01-01    Bellings    6021.0      Juniors          5.0        3.30   \n",
       "3   4 2016-01-01  Ready Wear    2020.0       Womens         -1.0        9.99   \n",
       "4   5 2016-01-01  Ready Wear    2067.0       Womens         11.0        4.27   \n",
       "\n",
       "   Cost_Price  Total Sales  Total Cost  Profits  \n",
       "0        5.28       109.78      116.16    -6.38  \n",
       "1        3.76       591.48      597.84    -6.36  \n",
       "2        4.55        16.50       22.75    -6.25  \n",
       "3        3.75        -9.99       -3.75    -6.24  \n",
       "4        4.82        46.97       53.02    -6.05  "
      ]
     },
     "execution_count": 9,
     "metadata": {},
     "output_type": "execute_result"
    }
   ],
   "source": [
    "# The Transaction table records records of purchases\n",
    "pd.read_sql(\"SELECT * FROM Transaction;\" ,conn).head()"
   ]
  },
  {
   "cell_type": "code",
   "execution_count": 10,
   "metadata": {},
   "outputs": [
    {
     "data": {
      "text/html": [
       "<div>\n",
       "<style scoped>\n",
       "    .dataframe tbody tr th:only-of-type {\n",
       "        vertical-align: middle;\n",
       "    }\n",
       "\n",
       "    .dataframe tbody tr th {\n",
       "        vertical-align: top;\n",
       "    }\n",
       "\n",
       "    .dataframe thead th {\n",
       "        text-align: right;\n",
       "    }\n",
       "</style>\n",
       "<table border=\"1\" class=\"dataframe\">\n",
       "  <thead>\n",
       "    <tr style=\"text-align: right;\">\n",
       "      <th></th>\n",
       "      <th>State</th>\n",
       "      <th>Suburb</th>\n",
       "      <th>Postcode</th>\n",
       "    </tr>\n",
       "  </thead>\n",
       "  <tbody>\n",
       "    <tr>\n",
       "      <th>0</th>\n",
       "      <td>NT</td>\n",
       "      <td>Darwin</td>\n",
       "      <td>800.0</td>\n",
       "    </tr>\n",
       "    <tr>\n",
       "      <th>1</th>\n",
       "      <td>NT</td>\n",
       "      <td>Alice Springs</td>\n",
       "      <td>870.0</td>\n",
       "    </tr>\n",
       "    <tr>\n",
       "      <th>2</th>\n",
       "      <td>NSW</td>\n",
       "      <td>Alexandria</td>\n",
       "      <td>2015.0</td>\n",
       "    </tr>\n",
       "    <tr>\n",
       "      <th>3</th>\n",
       "      <td>NSW</td>\n",
       "      <td>Mascot</td>\n",
       "      <td>2020.0</td>\n",
       "    </tr>\n",
       "    <tr>\n",
       "      <th>4</th>\n",
       "      <td>NSW</td>\n",
       "      <td>Randwick</td>\n",
       "      <td>2031.0</td>\n",
       "    </tr>\n",
       "    <tr>\n",
       "      <th>...</th>\n",
       "      <td>...</td>\n",
       "      <td>...</td>\n",
       "      <td>...</td>\n",
       "    </tr>\n",
       "    <tr>\n",
       "      <th>93</th>\n",
       "      <td>WA</td>\n",
       "      <td>Broome</td>\n",
       "      <td>6725.0</td>\n",
       "    </tr>\n",
       "    <tr>\n",
       "      <th>94</th>\n",
       "      <td>TAS</td>\n",
       "      <td>Glenorchy</td>\n",
       "      <td>7010.0</td>\n",
       "    </tr>\n",
       "    <tr>\n",
       "      <th>95</th>\n",
       "      <td>TAS</td>\n",
       "      <td>Rosny Park</td>\n",
       "      <td>7018.0</td>\n",
       "    </tr>\n",
       "    <tr>\n",
       "      <th>96</th>\n",
       "      <td>TAS</td>\n",
       "      <td>Launceston</td>\n",
       "      <td>7250.0</td>\n",
       "    </tr>\n",
       "    <tr>\n",
       "      <th>97</th>\n",
       "      <td>TAS</td>\n",
       "      <td>Burnie</td>\n",
       "      <td>7320.0</td>\n",
       "    </tr>\n",
       "  </tbody>\n",
       "</table>\n",
       "<p>98 rows × 3 columns</p>\n",
       "</div>"
      ],
      "text/plain": [
       "   State         Suburb  Postcode\n",
       "0     NT         Darwin     800.0\n",
       "1     NT  Alice Springs     870.0\n",
       "2    NSW     Alexandria    2015.0\n",
       "3    NSW         Mascot    2020.0\n",
       "4    NSW       Randwick    2031.0\n",
       "..   ...            ...       ...\n",
       "93    WA         Broome    6725.0\n",
       "94   TAS      Glenorchy    7010.0\n",
       "95   TAS     Rosny Park    7018.0\n",
       "96   TAS     Launceston    7250.0\n",
       "97   TAS         Burnie    7320.0\n",
       "\n",
       "[98 rows x 3 columns]"
      ]
     },
     "execution_count": 10,
     "metadata": {},
     "output_type": "execute_result"
    }
   ],
   "source": [
    "# The State table shows the state of each suburb\n",
    "pd.read_sql(\"SELECT * FROM State;\",conn)"
   ]
  },
  {
   "cell_type": "code",
   "execution_count": 11,
   "metadata": {},
   "outputs": [
    {
     "data": {
      "text/html": [
       "<div>\n",
       "<style scoped>\n",
       "    .dataframe tbody tr th:only-of-type {\n",
       "        vertical-align: middle;\n",
       "    }\n",
       "\n",
       "    .dataframe tbody tr th {\n",
       "        vertical-align: top;\n",
       "    }\n",
       "\n",
       "    .dataframe thead th {\n",
       "        text-align: right;\n",
       "    }\n",
       "</style>\n",
       "<table border=\"1\" class=\"dataframe\">\n",
       "  <thead>\n",
       "    <tr style=\"text-align: right;\">\n",
       "      <th></th>\n",
       "      <th>Date</th>\n",
       "      <th>Financial Year</th>\n",
       "      <th>FY Qtr</th>\n",
       "      <th>FY Month</th>\n",
       "    </tr>\n",
       "  </thead>\n",
       "  <tbody>\n",
       "    <tr>\n",
       "      <th>0</th>\n",
       "      <td>2016-01-01</td>\n",
       "      <td>2015/16</td>\n",
       "      <td>2016 Q3</td>\n",
       "      <td>7.0</td>\n",
       "    </tr>\n",
       "    <tr>\n",
       "      <th>1</th>\n",
       "      <td>2016-02-01</td>\n",
       "      <td>2015/16</td>\n",
       "      <td>2016 Q3</td>\n",
       "      <td>8.0</td>\n",
       "    </tr>\n",
       "    <tr>\n",
       "      <th>2</th>\n",
       "      <td>2016-03-01</td>\n",
       "      <td>2015/16</td>\n",
       "      <td>2016 Q3</td>\n",
       "      <td>9.0</td>\n",
       "    </tr>\n",
       "    <tr>\n",
       "      <th>3</th>\n",
       "      <td>2016-04-01</td>\n",
       "      <td>2015/16</td>\n",
       "      <td>2016 Q4</td>\n",
       "      <td>10.0</td>\n",
       "    </tr>\n",
       "    <tr>\n",
       "      <th>4</th>\n",
       "      <td>2016-05-01</td>\n",
       "      <td>2015/16</td>\n",
       "      <td>2016 Q4</td>\n",
       "      <td>11.0</td>\n",
       "    </tr>\n",
       "    <tr>\n",
       "      <th>5</th>\n",
       "      <td>2016-06-01</td>\n",
       "      <td>2015/16</td>\n",
       "      <td>2016 Q4</td>\n",
       "      <td>12.0</td>\n",
       "    </tr>\n",
       "    <tr>\n",
       "      <th>6</th>\n",
       "      <td>2016-07-01</td>\n",
       "      <td>2016/17</td>\n",
       "      <td>2017 Q1</td>\n",
       "      <td>1.0</td>\n",
       "    </tr>\n",
       "    <tr>\n",
       "      <th>7</th>\n",
       "      <td>2016-08-01</td>\n",
       "      <td>2016/17</td>\n",
       "      <td>2017 Q1</td>\n",
       "      <td>2.0</td>\n",
       "    </tr>\n",
       "    <tr>\n",
       "      <th>8</th>\n",
       "      <td>2016-09-01</td>\n",
       "      <td>2016/17</td>\n",
       "      <td>2017 Q1</td>\n",
       "      <td>3.0</td>\n",
       "    </tr>\n",
       "    <tr>\n",
       "      <th>9</th>\n",
       "      <td>2016-10-01</td>\n",
       "      <td>2016/17</td>\n",
       "      <td>2017 Q2</td>\n",
       "      <td>4.0</td>\n",
       "    </tr>\n",
       "    <tr>\n",
       "      <th>10</th>\n",
       "      <td>2016-11-01</td>\n",
       "      <td>2016/17</td>\n",
       "      <td>2017 Q2</td>\n",
       "      <td>5.0</td>\n",
       "    </tr>\n",
       "    <tr>\n",
       "      <th>11</th>\n",
       "      <td>2016-12-01</td>\n",
       "      <td>2016/17</td>\n",
       "      <td>2017 Q2</td>\n",
       "      <td>6.0</td>\n",
       "    </tr>\n",
       "    <tr>\n",
       "      <th>12</th>\n",
       "      <td>2017-01-01</td>\n",
       "      <td>2016/17</td>\n",
       "      <td>2017 Q3</td>\n",
       "      <td>7.0</td>\n",
       "    </tr>\n",
       "    <tr>\n",
       "      <th>13</th>\n",
       "      <td>2017-02-01</td>\n",
       "      <td>2016/17</td>\n",
       "      <td>2017 Q3</td>\n",
       "      <td>8.0</td>\n",
       "    </tr>\n",
       "    <tr>\n",
       "      <th>14</th>\n",
       "      <td>2017-03-01</td>\n",
       "      <td>2016/17</td>\n",
       "      <td>2017 Q3</td>\n",
       "      <td>9.0</td>\n",
       "    </tr>\n",
       "    <tr>\n",
       "      <th>15</th>\n",
       "      <td>2017-04-01</td>\n",
       "      <td>2016/17</td>\n",
       "      <td>2017 Q4</td>\n",
       "      <td>10.0</td>\n",
       "    </tr>\n",
       "    <tr>\n",
       "      <th>16</th>\n",
       "      <td>2017-05-01</td>\n",
       "      <td>2016/17</td>\n",
       "      <td>2017 Q4</td>\n",
       "      <td>11.0</td>\n",
       "    </tr>\n",
       "    <tr>\n",
       "      <th>17</th>\n",
       "      <td>2017-06-01</td>\n",
       "      <td>2016/17</td>\n",
       "      <td>2017 Q4</td>\n",
       "      <td>12.0</td>\n",
       "    </tr>\n",
       "    <tr>\n",
       "      <th>18</th>\n",
       "      <td>2017-07-01</td>\n",
       "      <td>2017/18</td>\n",
       "      <td>2018 Q1</td>\n",
       "      <td>1.0</td>\n",
       "    </tr>\n",
       "    <tr>\n",
       "      <th>19</th>\n",
       "      <td>2017-08-01</td>\n",
       "      <td>2017/18</td>\n",
       "      <td>2018 Q1</td>\n",
       "      <td>2.0</td>\n",
       "    </tr>\n",
       "  </tbody>\n",
       "</table>\n",
       "</div>"
      ],
      "text/plain": [
       "         Date Financial Year   FY Qtr  FY Month\n",
       "0  2016-01-01        2015/16  2016 Q3       7.0\n",
       "1  2016-02-01        2015/16  2016 Q3       8.0\n",
       "2  2016-03-01        2015/16  2016 Q3       9.0\n",
       "3  2016-04-01        2015/16  2016 Q4      10.0\n",
       "4  2016-05-01        2015/16  2016 Q4      11.0\n",
       "5  2016-06-01        2015/16  2016 Q4      12.0\n",
       "6  2016-07-01        2016/17  2017 Q1       1.0\n",
       "7  2016-08-01        2016/17  2017 Q1       2.0\n",
       "8  2016-09-01        2016/17  2017 Q1       3.0\n",
       "9  2016-10-01        2016/17  2017 Q2       4.0\n",
       "10 2016-11-01        2016/17  2017 Q2       5.0\n",
       "11 2016-12-01        2016/17  2017 Q2       6.0\n",
       "12 2017-01-01        2016/17  2017 Q3       7.0\n",
       "13 2017-02-01        2016/17  2017 Q3       8.0\n",
       "14 2017-03-01        2016/17  2017 Q3       9.0\n",
       "15 2017-04-01        2016/17  2017 Q4      10.0\n",
       "16 2017-05-01        2016/17  2017 Q4      11.0\n",
       "17 2017-06-01        2016/17  2017 Q4      12.0\n",
       "18 2017-07-01        2017/18  2018 Q1       1.0\n",
       "19 2017-08-01        2017/18  2018 Q1       2.0"
      ]
     },
     "execution_count": 11,
     "metadata": {},
     "output_type": "execute_result"
    }
   ],
   "source": [
    "# Date_Table is a table for Date\n",
    "pd.read_sql(\"\"\"SELECT * FROM Date_Table;\"\"\",conn)"
   ]
  },
  {
   "cell_type": "code",
   "execution_count": 12,
   "metadata": {},
   "outputs": [
    {
     "data": {
      "text/html": [
       "<div>\n",
       "<style scoped>\n",
       "    .dataframe tbody tr th:only-of-type {\n",
       "        vertical-align: middle;\n",
       "    }\n",
       "\n",
       "    .dataframe tbody tr th {\n",
       "        vertical-align: top;\n",
       "    }\n",
       "\n",
       "    .dataframe thead th {\n",
       "        text-align: right;\n",
       "    }\n",
       "</style>\n",
       "<table border=\"1\" class=\"dataframe\">\n",
       "  <thead>\n",
       "    <tr style=\"text-align: right;\">\n",
       "      <th></th>\n",
       "      <th>Suburb</th>\n",
       "      <th>Postcode</th>\n",
       "      <th>Manager</th>\n",
       "    </tr>\n",
       "  </thead>\n",
       "  <tbody>\n",
       "    <tr>\n",
       "      <th>0</th>\n",
       "      <td>Darwin</td>\n",
       "      <td>800.0</td>\n",
       "      <td>Michael Carney</td>\n",
       "    </tr>\n",
       "    <tr>\n",
       "      <th>1</th>\n",
       "      <td>Alice Springs</td>\n",
       "      <td>870.0</td>\n",
       "      <td>Michael Carney</td>\n",
       "    </tr>\n",
       "    <tr>\n",
       "      <th>2</th>\n",
       "      <td>Alexandria</td>\n",
       "      <td>2015.0</td>\n",
       "      <td>Jeremy Garcia</td>\n",
       "    </tr>\n",
       "    <tr>\n",
       "      <th>3</th>\n",
       "      <td>Mascot</td>\n",
       "      <td>2020.0</td>\n",
       "      <td>Jeremy Garcia</td>\n",
       "    </tr>\n",
       "    <tr>\n",
       "      <th>4</th>\n",
       "      <td>Randwick</td>\n",
       "      <td>2031.0</td>\n",
       "      <td>Jeremy Garcia</td>\n",
       "    </tr>\n",
       "  </tbody>\n",
       "</table>\n",
       "</div>"
      ],
      "text/plain": [
       "          Suburb  Postcode         Manager\n",
       "0         Darwin     800.0  Michael Carney\n",
       "1  Alice Springs     870.0  Michael Carney\n",
       "2     Alexandria    2015.0   Jeremy Garcia\n",
       "3         Mascot    2020.0   Jeremy Garcia\n",
       "4       Randwick    2031.0   Jeremy Garcia"
      ]
     },
     "execution_count": 12,
     "metadata": {},
     "output_type": "execute_result"
    }
   ],
   "source": [
    "# This table links suburbs with their managers\n",
    "pd.read_sql(\"SELECT * FROM Suburb;\",conn).head()"
   ]
  },
  {
   "cell_type": "markdown",
   "metadata": {},
   "source": [
    "### Objective 1: Compare sales and gross profits generation performance among different states and between different chains."
   ]
  },
  {
   "cell_type": "code",
   "execution_count": 13,
   "metadata": {},
   "outputs": [],
   "source": [
    "# First, we need a table with columns: states, channel, total revenue grouped by states and channels, and total gross profits\n",
    "# grouped by states and channels. We can get the table from \"Transaction\" and \"State\".\n",
    "df_state = pd.read_sql(\"\"\"SELECT State.State AS State,\n",
    "Transaction.Chain AS Chain,\n",
    "ROUND(SUM(Transaction.Total_Units * Transaction.Sale_Price),1) AS totalsales,\n",
    " ROUND(SUM(Transaction.Total_Units * (Transaction.Sale_Price - Transaction.Cost_Price)),1) AS totalprofits\n",
    "FROM Transaction\n",
    "LEFT JOIN State\n",
    "on Transaction.Postcode = State.Postcode\n",
    "GROUP BY State, Chain\n",
    "ORDER BY SUM(Transaction.Total_Units * Transaction.Sale_Price) DESC\"\"\",conn)"
   ]
  },
  {
   "cell_type": "code",
   "execution_count": 14,
   "metadata": {},
   "outputs": [
    {
     "data": {
      "text/html": [
       "<div>\n",
       "<style scoped>\n",
       "    .dataframe tbody tr th:only-of-type {\n",
       "        vertical-align: middle;\n",
       "    }\n",
       "\n",
       "    .dataframe tbody tr th {\n",
       "        vertical-align: top;\n",
       "    }\n",
       "\n",
       "    .dataframe thead th {\n",
       "        text-align: right;\n",
       "    }\n",
       "</style>\n",
       "<table border=\"1\" class=\"dataframe\">\n",
       "  <thead>\n",
       "    <tr style=\"text-align: right;\">\n",
       "      <th></th>\n",
       "      <th>State</th>\n",
       "      <th>Chain</th>\n",
       "      <th>totalsales</th>\n",
       "      <th>totalprofits</th>\n",
       "    </tr>\n",
       "  </thead>\n",
       "  <tbody>\n",
       "    <tr>\n",
       "      <th>0</th>\n",
       "      <td>NSW</td>\n",
       "      <td>Ready Wear</td>\n",
       "      <td>18233860.4</td>\n",
       "      <td>7760361.3</td>\n",
       "    </tr>\n",
       "    <tr>\n",
       "      <th>1</th>\n",
       "      <td>VIC</td>\n",
       "      <td>Ready Wear</td>\n",
       "      <td>11098093.7</td>\n",
       "      <td>4605220.1</td>\n",
       "    </tr>\n",
       "    <tr>\n",
       "      <th>2</th>\n",
       "      <td>QLD</td>\n",
       "      <td>Ready Wear</td>\n",
       "      <td>8320557.7</td>\n",
       "      <td>3384480.8</td>\n",
       "    </tr>\n",
       "    <tr>\n",
       "      <th>3</th>\n",
       "      <td>NSW</td>\n",
       "      <td>Bellings</td>\n",
       "      <td>3990804.8</td>\n",
       "      <td>1797070.1</td>\n",
       "    </tr>\n",
       "    <tr>\n",
       "      <th>4</th>\n",
       "      <td>WA</td>\n",
       "      <td>Ready Wear</td>\n",
       "      <td>3932968.0</td>\n",
       "      <td>1705322.4</td>\n",
       "    </tr>\n",
       "    <tr>\n",
       "      <th>5</th>\n",
       "      <td>QLD</td>\n",
       "      <td>Bellings</td>\n",
       "      <td>3767721.5</td>\n",
       "      <td>1640503.6</td>\n",
       "    </tr>\n",
       "    <tr>\n",
       "      <th>6</th>\n",
       "      <td>VIC</td>\n",
       "      <td>Bellings</td>\n",
       "      <td>3746690.9</td>\n",
       "      <td>1626791.8</td>\n",
       "    </tr>\n",
       "    <tr>\n",
       "      <th>7</th>\n",
       "      <td>WA</td>\n",
       "      <td>Bellings</td>\n",
       "      <td>2358700.4</td>\n",
       "      <td>1034580.5</td>\n",
       "    </tr>\n",
       "    <tr>\n",
       "      <th>8</th>\n",
       "      <td>SA</td>\n",
       "      <td>Bellings</td>\n",
       "      <td>2221144.8</td>\n",
       "      <td>969938.7</td>\n",
       "    </tr>\n",
       "    <tr>\n",
       "      <th>9</th>\n",
       "      <td>TAS</td>\n",
       "      <td>Bellings</td>\n",
       "      <td>1183588.0</td>\n",
       "      <td>516970.5</td>\n",
       "    </tr>\n",
       "    <tr>\n",
       "      <th>10</th>\n",
       "      <td>NT</td>\n",
       "      <td>Ready Wear</td>\n",
       "      <td>1108703.9</td>\n",
       "      <td>458350.9</td>\n",
       "    </tr>\n",
       "    <tr>\n",
       "      <th>11</th>\n",
       "      <td>ACT</td>\n",
       "      <td>Ready Wear</td>\n",
       "      <td>445212.9</td>\n",
       "      <td>178467.0</td>\n",
       "    </tr>\n",
       "    <tr>\n",
       "      <th>12</th>\n",
       "      <td>ACT</td>\n",
       "      <td>Bellings</td>\n",
       "      <td>232594.2</td>\n",
       "      <td>98703.4</td>\n",
       "    </tr>\n",
       "    <tr>\n",
       "      <th>13</th>\n",
       "      <td>NT</td>\n",
       "      <td>Bellings</td>\n",
       "      <td>202086.1</td>\n",
       "      <td>84651.8</td>\n",
       "    </tr>\n",
       "  </tbody>\n",
       "</table>\n",
       "</div>"
      ],
      "text/plain": [
       "   State       Chain  totalsales  totalprofits\n",
       "0    NSW  Ready Wear  18233860.4     7760361.3\n",
       "1    VIC  Ready Wear  11098093.7     4605220.1\n",
       "2    QLD  Ready Wear   8320557.7     3384480.8\n",
       "3    NSW    Bellings   3990804.8     1797070.1\n",
       "4     WA  Ready Wear   3932968.0     1705322.4\n",
       "5    QLD    Bellings   3767721.5     1640503.6\n",
       "6    VIC    Bellings   3746690.9     1626791.8\n",
       "7     WA    Bellings   2358700.4     1034580.5\n",
       "8     SA    Bellings   2221144.8      969938.7\n",
       "9    TAS    Bellings   1183588.0      516970.5\n",
       "10    NT  Ready Wear   1108703.9      458350.9\n",
       "11   ACT  Ready Wear    445212.9      178467.0\n",
       "12   ACT    Bellings    232594.2       98703.4\n",
       "13    NT    Bellings    202086.1       84651.8"
      ]
     },
     "execution_count": 14,
     "metadata": {},
     "output_type": "execute_result"
    }
   ],
   "source": [
    "df_state"
   ]
  },
  {
   "cell_type": "code",
   "execution_count": 15,
   "metadata": {},
   "outputs": [
    {
     "data": {
      "image/png": "[encoded data removed]",
      "text/plain": [
       "<Figure size 1248.75x288 with 1 Axes>"
      ]
     },
     "metadata": {
      "needs_background": "light"
     },
     "output_type": "display_data"
    }
   ],
   "source": [
    "g = sns.catplot(\"State\", \"totalsales\",hue='Chain', data=df_state, kind=\"bar\", height=4, aspect=4)  "
   ]
  },
  {
   "cell_type": "markdown",
   "metadata": {},
   "source": [
    "#### From the graph, we can see that the states of NSW has the highest sales in Ready Wear, and NSW, VIC, and QLD have the highset sales in Bellings. "
   ]
  },
  {
   "cell_type": "code",
   "execution_count": 16,
   "metadata": {},
   "outputs": [
    {
     "data": {
      "image/png": "[encoded data removed]",
      "text/plain": [
       "<Figure size 1248.75x288 with 1 Axes>"
      ]
     },
     "metadata": {
      "needs_background": "light"
     },
     "output_type": "display_data"
    }
   ],
   "source": [
    "g = sns.catplot(\"State\", \"totalprofits\",hue='Chain', data=df_state.sort_values(by='totalprofits', ascending=False), kind=\"bar\", height=4, aspect=4)  "
   ]
  },
  {
   "cell_type": "markdown",
   "metadata": {},
   "source": [
    "#### From the graph, we can see that the states of NSW has the highest gross profits in Ready Wear, and NSW, VIC, and QLD have the highset gross profits in Bellings. "
   ]
  },
  {
   "cell_type": "markdown",
   "metadata": {},
   "source": [
    "### Objective 2: Compare the Sales and gross profits generation performance of different categories."
   ]
  },
  {
   "cell_type": "code",
   "execution_count": 17,
   "metadata": {},
   "outputs": [],
   "source": [
    "# First, we need a table with columns: Categories, channel, total revenue grouped by categories and channels, and total gross profits\n",
    "# grouped by categories and channels. We can get the table from \"Transaction\".\n",
    "df_category = pd.read_sql(\"\"\"SELECT Category,\n",
    "Chain,\n",
    "ROUND(SUM(Transaction.Total_Units * Transaction.Sale_Price),1) AS totalsales,\n",
    " ROUND(SUM(Transaction.Total_Units * (Transaction.Sale_Price - Transaction.Cost_Price)),1) AS totalprofits\n",
    "FROM Transaction\n",
    "GROUP BY Category,Chain\n",
    "ORDER BY SUM(Transaction.Total_Units * Transaction.Sale_Price) DESC\"\"\",conn)"
   ]
  },
  {
   "cell_type": "code",
   "execution_count": 18,
   "metadata": {},
   "outputs": [
    {
     "data": {
      "text/html": [
       "<div>\n",
       "<style scoped>\n",
       "    .dataframe tbody tr th:only-of-type {\n",
       "        vertical-align: middle;\n",
       "    }\n",
       "\n",
       "    .dataframe tbody tr th {\n",
       "        vertical-align: top;\n",
       "    }\n",
       "\n",
       "    .dataframe thead th {\n",
       "        text-align: right;\n",
       "    }\n",
       "</style>\n",
       "<table border=\"1\" class=\"dataframe\">\n",
       "  <thead>\n",
       "    <tr style=\"text-align: right;\">\n",
       "      <th></th>\n",
       "      <th>Category</th>\n",
       "      <th>Chain</th>\n",
       "      <th>totalsales</th>\n",
       "      <th>totalprofits</th>\n",
       "    </tr>\n",
       "  </thead>\n",
       "  <tbody>\n",
       "    <tr>\n",
       "      <th>0</th>\n",
       "      <td>Home</td>\n",
       "      <td>Ready Wear</td>\n",
       "      <td>7434650.3</td>\n",
       "      <td>2468966.1</td>\n",
       "    </tr>\n",
       "    <tr>\n",
       "      <th>1</th>\n",
       "      <td>Mens</td>\n",
       "      <td>Ready Wear</td>\n",
       "      <td>7000597.8</td>\n",
       "      <td>3272773.3</td>\n",
       "    </tr>\n",
       "    <tr>\n",
       "      <th>2</th>\n",
       "      <td>Kids</td>\n",
       "      <td>Ready Wear</td>\n",
       "      <td>6057019.6</td>\n",
       "      <td>2623282.7</td>\n",
       "    </tr>\n",
       "    <tr>\n",
       "      <th>3</th>\n",
       "      <td>Shoes</td>\n",
       "      <td>Ready Wear</td>\n",
       "      <td>5952436.9</td>\n",
       "      <td>2411581.6</td>\n",
       "    </tr>\n",
       "    <tr>\n",
       "      <th>4</th>\n",
       "      <td>Mens</td>\n",
       "      <td>Bellings</td>\n",
       "      <td>5140591.1</td>\n",
       "      <td>2303412.9</td>\n",
       "    </tr>\n",
       "    <tr>\n",
       "      <th>5</th>\n",
       "      <td>Juniors</td>\n",
       "      <td>Ready Wear</td>\n",
       "      <td>4770393.8</td>\n",
       "      <td>2186896.2</td>\n",
       "    </tr>\n",
       "    <tr>\n",
       "      <th>6</th>\n",
       "      <td>Womens</td>\n",
       "      <td>Ready Wear</td>\n",
       "      <td>4567001.8</td>\n",
       "      <td>2066874.6</td>\n",
       "    </tr>\n",
       "    <tr>\n",
       "      <th>7</th>\n",
       "      <td>Shoes</td>\n",
       "      <td>Bellings</td>\n",
       "      <td>3824968.2</td>\n",
       "      <td>1549115.5</td>\n",
       "    </tr>\n",
       "    <tr>\n",
       "      <th>8</th>\n",
       "      <td>Juniors</td>\n",
       "      <td>Bellings</td>\n",
       "      <td>3390309.2</td>\n",
       "      <td>1545828.3</td>\n",
       "    </tr>\n",
       "    <tr>\n",
       "      <th>9</th>\n",
       "      <td>Accessories</td>\n",
       "      <td>Ready Wear</td>\n",
       "      <td>2324014.1</td>\n",
       "      <td>1144793.5</td>\n",
       "    </tr>\n",
       "    <tr>\n",
       "      <th>10</th>\n",
       "      <td>Groceries</td>\n",
       "      <td>Ready Wear</td>\n",
       "      <td>2184585.6</td>\n",
       "      <td>591190.4</td>\n",
       "    </tr>\n",
       "    <tr>\n",
       "      <th>11</th>\n",
       "      <td>Intimate</td>\n",
       "      <td>Ready Wear</td>\n",
       "      <td>1835026.4</td>\n",
       "      <td>863775.2</td>\n",
       "    </tr>\n",
       "    <tr>\n",
       "      <th>12</th>\n",
       "      <td>Accessories</td>\n",
       "      <td>Bellings</td>\n",
       "      <td>1307308.6</td>\n",
       "      <td>632003.4</td>\n",
       "    </tr>\n",
       "    <tr>\n",
       "      <th>13</th>\n",
       "      <td>Kids</td>\n",
       "      <td>Bellings</td>\n",
       "      <td>1300890.1</td>\n",
       "      <td>557906.2</td>\n",
       "    </tr>\n",
       "    <tr>\n",
       "      <th>14</th>\n",
       "      <td>Womens</td>\n",
       "      <td>Bellings</td>\n",
       "      <td>1175228.5</td>\n",
       "      <td>522213.7</td>\n",
       "    </tr>\n",
       "    <tr>\n",
       "      <th>15</th>\n",
       "      <td>Hosiery</td>\n",
       "      <td>Ready Wear</td>\n",
       "      <td>1013670.2</td>\n",
       "      <td>462068.8</td>\n",
       "    </tr>\n",
       "    <tr>\n",
       "      <th>16</th>\n",
       "      <td>Home</td>\n",
       "      <td>Bellings</td>\n",
       "      <td>615789.9</td>\n",
       "      <td>246598.6</td>\n",
       "    </tr>\n",
       "    <tr>\n",
       "      <th>17</th>\n",
       "      <td>Intimate</td>\n",
       "      <td>Bellings</td>\n",
       "      <td>571952.9</td>\n",
       "      <td>251292.2</td>\n",
       "    </tr>\n",
       "    <tr>\n",
       "      <th>18</th>\n",
       "      <td>Hosiery</td>\n",
       "      <td>Bellings</td>\n",
       "      <td>369996.0</td>\n",
       "      <td>160389.5</td>\n",
       "    </tr>\n",
       "    <tr>\n",
       "      <th>19</th>\n",
       "      <td>Groceries</td>\n",
       "      <td>Bellings</td>\n",
       "      <td>6296.2</td>\n",
       "      <td>450.2</td>\n",
       "    </tr>\n",
       "  </tbody>\n",
       "</table>\n",
       "</div>"
      ],
      "text/plain": [
       "       Category       Chain  totalsales  totalprofits\n",
       "0          Home  Ready Wear   7434650.3     2468966.1\n",
       "1          Mens  Ready Wear   7000597.8     3272773.3\n",
       "2          Kids  Ready Wear   6057019.6     2623282.7\n",
       "3         Shoes  Ready Wear   5952436.9     2411581.6\n",
       "4          Mens    Bellings   5140591.1     2303412.9\n",
       "5       Juniors  Ready Wear   4770393.8     2186896.2\n",
       "6        Womens  Ready Wear   4567001.8     2066874.6\n",
       "7         Shoes    Bellings   3824968.2     1549115.5\n",
       "8       Juniors    Bellings   3390309.2     1545828.3\n",
       "9   Accessories  Ready Wear   2324014.1     1144793.5\n",
       "10    Groceries  Ready Wear   2184585.6      591190.4\n",
       "11     Intimate  Ready Wear   1835026.4      863775.2\n",
       "12  Accessories    Bellings   1307308.6      632003.4\n",
       "13         Kids    Bellings   1300890.1      557906.2\n",
       "14       Womens    Bellings   1175228.5      522213.7\n",
       "15      Hosiery  Ready Wear   1013670.2      462068.8\n",
       "16         Home    Bellings    615789.9      246598.6\n",
       "17     Intimate    Bellings    571952.9      251292.2\n",
       "18      Hosiery    Bellings    369996.0      160389.5\n",
       "19    Groceries    Bellings      6296.2         450.2"
      ]
     },
     "execution_count": 18,
     "metadata": {},
     "output_type": "execute_result"
    }
   ],
   "source": [
    "df_category"
   ]
  },
  {
   "cell_type": "code",
   "execution_count": 19,
   "metadata": {},
   "outputs": [
    {
     "data": {
      "image/png": "[encoded data removed]",
      "text/plain": [
       "<Figure size 1248.75x288 with 1 Axes>"
      ]
     },
     "metadata": {
      "needs_background": "light"
     },
     "output_type": "display_data"
    }
   ],
   "source": [
    "g = sns.catplot(\"Category\", \"totalsales\",hue='Chain', data=df_category, kind=\"bar\", height=4, aspect=4)  "
   ]
  },
  {
   "cell_type": "markdown",
   "metadata": {},
   "source": [
    "#### From the graph, we can see that Home has the most sales from Ready Wear, Mens has the most sales from Bellings."
   ]
  },
  {
   "cell_type": "code",
   "execution_count": 20,
   "metadata": {},
   "outputs": [
    {
     "data": {
      "image/png": "[encoded data removed]",
      "text/plain": [
       "<Figure size 1248.75x288 with 1 Axes>"
      ]
     },
     "metadata": {
      "needs_background": "light"
     },
     "output_type": "display_data"
    }
   ],
   "source": [
    "g = sns.catplot(\"Category\", \"totalprofits\",hue='Chain', data=df_category.sort_values(by='totalprofits', ascending=False), kind=\"bar\", height=4, aspect=4)  "
   ]
  },
  {
   "cell_type": "markdown",
   "metadata": {},
   "source": [
    "#### From the graph, we can see that Mens earns the most profits from both chains."
   ]
  },
  {
   "cell_type": "markdown",
   "metadata": {},
   "source": [
    "### Find out the manager with highest sales, gross profits, and ROI. Also, we will investigate the relationship between sales and ROI"
   ]
  },
  {
   "cell_type": "code",
   "execution_count": 21,
   "metadata": {},
   "outputs": [],
   "source": [
    "# First, we need a table with columns: Manager, total revenue grouped by states and channels, total gross profits\n",
    "# grouped by states and channels, and ROI defined as (Total gross profits)/(Total cost).\n",
    "# We can get the table from \"Transaction\" and \"Suburb\".\n",
    "\n",
    "df_manager = pd.read_sql(\"\"\"SELECT Suburb.Manager AS Manager,\n",
    "\n",
    "ROUND(SUM(Transaction.Total_Units * Transaction.Sale_Price),1) AS totalsales,\n",
    "\n",
    " ROUND(SUM(Transaction.Total_Units * (Transaction.Sale_Price - Transaction.Cost_Price)),1) AS totalprofits,\n",
    " ROUND((totalprofits/ROUND(SUM(Transaction.Total_Units * Transaction.Cost_Price),1)),2) AS ROI\n",
    " \n",
    "FROM Transaction\n",
    "LEFT JOIN Suburb\n",
    "on Transaction.Postcode = Suburb.Postcode\n",
    "GROUP BY Manager\n",
    "ORDER BY SUM(Transaction.Total_Units * Transaction.Sale_Price) DESC\"\"\",conn)"
   ]
  },
  {
   "cell_type": "code",
   "execution_count": 22,
   "metadata": {},
   "outputs": [
    {
     "data": {
      "text/html": [
       "<div>\n",
       "<style scoped>\n",
       "    .dataframe tbody tr th:only-of-type {\n",
       "        vertical-align: middle;\n",
       "    }\n",
       "\n",
       "    .dataframe tbody tr th {\n",
       "        vertical-align: top;\n",
       "    }\n",
       "\n",
       "    .dataframe thead th {\n",
       "        text-align: right;\n",
       "    }\n",
       "</style>\n",
       "<table border=\"1\" class=\"dataframe\">\n",
       "  <thead>\n",
       "    <tr style=\"text-align: right;\">\n",
       "      <th></th>\n",
       "      <th>Manager</th>\n",
       "      <th>totalsales</th>\n",
       "      <th>totalprofits</th>\n",
       "      <th>ROI</th>\n",
       "    </tr>\n",
       "  </thead>\n",
       "  <tbody>\n",
       "    <tr>\n",
       "      <th>0</th>\n",
       "      <td>John Gardner</td>\n",
       "      <td>5620719.8</td>\n",
       "      <td>2383642.0</td>\n",
       "      <td>0.74</td>\n",
       "    </tr>\n",
       "    <tr>\n",
       "      <th>1</th>\n",
       "      <td>Jeremy Garcia</td>\n",
       "      <td>5125896.8</td>\n",
       "      <td>2166847.2</td>\n",
       "      <td>0.73</td>\n",
       "    </tr>\n",
       "    <tr>\n",
       "      <th>2</th>\n",
       "      <td>Lillian Pruitt</td>\n",
       "      <td>5045470.7</td>\n",
       "      <td>2223115.6</td>\n",
       "      <td>0.79</td>\n",
       "    </tr>\n",
       "    <tr>\n",
       "      <th>3</th>\n",
       "      <td>Rachael Long</td>\n",
       "      <td>4945835.8</td>\n",
       "      <td>2074410.2</td>\n",
       "      <td>0.72</td>\n",
       "    </tr>\n",
       "    <tr>\n",
       "      <th>4</th>\n",
       "      <td>Jerry Fulton</td>\n",
       "      <td>4727111.3</td>\n",
       "      <td>1995813.0</td>\n",
       "      <td>0.73</td>\n",
       "    </tr>\n",
       "    <tr>\n",
       "      <th>5</th>\n",
       "      <td>Terri Wright</td>\n",
       "      <td>3944390.3</td>\n",
       "      <td>1586412.1</td>\n",
       "      <td>0.67</td>\n",
       "    </tr>\n",
       "    <tr>\n",
       "      <th>6</th>\n",
       "      <td>George Chester</td>\n",
       "      <td>3941595.2</td>\n",
       "      <td>1691066.0</td>\n",
       "      <td>0.75</td>\n",
       "    </tr>\n",
       "    <tr>\n",
       "      <th>7</th>\n",
       "      <td>Brian Hubbard</td>\n",
       "      <td>3873699.6</td>\n",
       "      <td>1604052.6</td>\n",
       "      <td>0.71</td>\n",
       "    </tr>\n",
       "    <tr>\n",
       "      <th>8</th>\n",
       "      <td>Miles Hammond</td>\n",
       "      <td>3203930.5</td>\n",
       "      <td>1379446.7</td>\n",
       "      <td>0.76</td>\n",
       "    </tr>\n",
       "    <tr>\n",
       "      <th>9</th>\n",
       "      <td>Claire Bridges</td>\n",
       "      <td>3168789.8</td>\n",
       "      <td>1369931.0</td>\n",
       "      <td>0.76</td>\n",
       "    </tr>\n",
       "    <tr>\n",
       "      <th>10</th>\n",
       "      <td>Shellie Thomas</td>\n",
       "      <td>2991514.7</td>\n",
       "      <td>1238475.5</td>\n",
       "      <td>0.71</td>\n",
       "    </tr>\n",
       "    <tr>\n",
       "      <th>11</th>\n",
       "      <td>Ricky Wilkinson</td>\n",
       "      <td>2725174.7</td>\n",
       "      <td>1131406.0</td>\n",
       "      <td>0.71</td>\n",
       "    </tr>\n",
       "    <tr>\n",
       "      <th>12</th>\n",
       "      <td>John Harper</td>\n",
       "      <td>1787951.8</td>\n",
       "      <td>797794.4</td>\n",
       "      <td>0.81</td>\n",
       "    </tr>\n",
       "    <tr>\n",
       "      <th>13</th>\n",
       "      <td>Ray Watson</td>\n",
       "      <td>1491439.2</td>\n",
       "      <td>654934.1</td>\n",
       "      <td>0.78</td>\n",
       "    </tr>\n",
       "    <tr>\n",
       "      <th>14</th>\n",
       "      <td>Amber Ward</td>\n",
       "      <td>1355922.6</td>\n",
       "      <td>594643.9</td>\n",
       "      <td>0.78</td>\n",
       "    </tr>\n",
       "    <tr>\n",
       "      <th>15</th>\n",
       "      <td>Michael Carney</td>\n",
       "      <td>1310790.0</td>\n",
       "      <td>543002.7</td>\n",
       "      <td>0.71</td>\n",
       "    </tr>\n",
       "    <tr>\n",
       "      <th>16</th>\n",
       "      <td>Tom McKenzie</td>\n",
       "      <td>1299786.1</td>\n",
       "      <td>562661.8</td>\n",
       "      <td>0.76</td>\n",
       "    </tr>\n",
       "    <tr>\n",
       "      <th>17</th>\n",
       "      <td>Owen Pierce</td>\n",
       "      <td>1298137.9</td>\n",
       "      <td>557736.1</td>\n",
       "      <td>0.75</td>\n",
       "    </tr>\n",
       "    <tr>\n",
       "      <th>18</th>\n",
       "      <td>Simone Prior</td>\n",
       "      <td>1183588.0</td>\n",
       "      <td>516970.5</td>\n",
       "      <td>0.78</td>\n",
       "    </tr>\n",
       "    <tr>\n",
       "      <th>19</th>\n",
       "      <td>Caroline Tucker</td>\n",
       "      <td>1071276.7</td>\n",
       "      <td>474046.9</td>\n",
       "      <td>0.79</td>\n",
       "    </tr>\n",
       "    <tr>\n",
       "      <th>20</th>\n",
       "      <td>Alex Nash</td>\n",
       "      <td>729705.6</td>\n",
       "      <td>315004.6</td>\n",
       "      <td>0.76</td>\n",
       "    </tr>\n",
       "  </tbody>\n",
       "</table>\n",
       "</div>"
      ],
      "text/plain": [
       "            Manager  totalsales  totalprofits   ROI\n",
       "0      John Gardner   5620719.8     2383642.0  0.74\n",
       "1     Jeremy Garcia   5125896.8     2166847.2  0.73\n",
       "2    Lillian Pruitt   5045470.7     2223115.6  0.79\n",
       "3      Rachael Long   4945835.8     2074410.2  0.72\n",
       "4      Jerry Fulton   4727111.3     1995813.0  0.73\n",
       "5      Terri Wright   3944390.3     1586412.1  0.67\n",
       "6    George Chester   3941595.2     1691066.0  0.75\n",
       "7     Brian Hubbard   3873699.6     1604052.6  0.71\n",
       "8     Miles Hammond   3203930.5     1379446.7  0.76\n",
       "9    Claire Bridges   3168789.8     1369931.0  0.76\n",
       "10   Shellie Thomas   2991514.7     1238475.5  0.71\n",
       "11  Ricky Wilkinson   2725174.7     1131406.0  0.71\n",
       "12      John Harper   1787951.8      797794.4  0.81\n",
       "13       Ray Watson   1491439.2      654934.1  0.78\n",
       "14       Amber Ward   1355922.6      594643.9  0.78\n",
       "15   Michael Carney   1310790.0      543002.7  0.71\n",
       "16     Tom McKenzie   1299786.1      562661.8  0.76\n",
       "17      Owen Pierce   1298137.9      557736.1  0.75\n",
       "18     Simone Prior   1183588.0      516970.5  0.78\n",
       "19  Caroline Tucker   1071276.7      474046.9  0.79\n",
       "20        Alex Nash    729705.6      315004.6  0.76"
      ]
     },
     "execution_count": 22,
     "metadata": {},
     "output_type": "execute_result"
    }
   ],
   "source": [
    "df_manager"
   ]
  },
  {
   "cell_type": "code",
   "execution_count": 23,
   "metadata": {},
   "outputs": [],
   "source": [
    "# Names are too long for visualization, let's simplify it by preserving only First name + initial of Last name\n",
    "def name(x):\n",
    "    return x.split(' ')[0]+x.split(' ')[1][0]"
   ]
  },
  {
   "cell_type": "code",
   "execution_count": 24,
   "metadata": {},
   "outputs": [
    {
     "data": {
      "text/plain": [
       "'DentonL'"
      ]
     },
     "execution_count": 24,
     "metadata": {},
     "output_type": "execute_result"
    }
   ],
   "source": [
    "name('Denton Li')"
   ]
  },
  {
   "cell_type": "code",
   "execution_count": 25,
   "metadata": {},
   "outputs": [],
   "source": [
    "df_manager['Manager'] = df_manager['Manager'].apply(name)"
   ]
  },
  {
   "cell_type": "code",
   "execution_count": 26,
   "metadata": {},
   "outputs": [
    {
     "data": {
      "image/png": "[encoded data removed]",
      "text/plain": [
       "<Figure size 1152x288 with 1 Axes>"
      ]
     },
     "metadata": {
      "needs_background": "light"
     },
     "output_type": "display_data"
    }
   ],
   "source": [
    "g = sns.catplot(\"Manager\", \"totalsales\", data=df_manager, kind=\"bar\", height=4, aspect=4)  "
   ]
  },
  {
   "cell_type": "markdown",
   "metadata": {},
   "source": [
    "#### John Gardner makes the most sales"
   ]
  },
  {
   "cell_type": "code",
   "execution_count": 27,
   "metadata": {},
   "outputs": [
    {
     "data": {
      "image/png": "[encoded data removed]",
      "text/plain": [
       "<Figure size 1152x288 with 1 Axes>"
      ]
     },
     "metadata": {
      "needs_background": "light"
     },
     "output_type": "display_data"
    }
   ],
   "source": [
    "g = sns.catplot(\"Manager\", \"totalprofits\", data=df_manager.sort_values(by='totalprofits', ascending=False), kind=\"bar\", height=4, aspect=4)  "
   ]
  },
  {
   "cell_type": "markdown",
   "metadata": {},
   "source": [
    "#### John Gardner also makes the most profits"
   ]
  },
  {
   "cell_type": "code",
   "execution_count": 28,
   "metadata": {},
   "outputs": [
    {
     "data": {
      "image/png": "[encoded data removed]",
      "text/plain": [
       "<Figure size 1152x288 with 1 Axes>"
      ]
     },
     "metadata": {
      "needs_background": "light"
     },
     "output_type": "display_data"
    }
   ],
   "source": [
    "g = sns.catplot(\"Manager\", \"ROI\", data=df_manager.sort_values(by='ROI', ascending=False), kind=\"bar\", height=4, aspect=4)  "
   ]
  },
  {
   "cell_type": "markdown",
   "metadata": {},
   "source": [
    "#### John Harper is the most efficient"
   ]
  },
  {
   "cell_type": "code",
   "execution_count": 29,
   "metadata": {},
   "outputs": [
    {
     "data": {
      "image/png": "[encoded data removed]",
      "text/plain": [
       "<Figure size 432x288 with 1 Axes>"
      ]
     },
     "metadata": {
      "needs_background": "light"
     },
     "output_type": "display_data"
    }
   ],
   "source": [
    "sns.regplot(data = df_manager,x='totalsales',y='ROI',lowess=True)\n",
    "plt.xlabel('Total Sales')\n",
    "plt.ylabel('Return on Investment')\n",
    "plt.title('Scatter plot of Total Sales and ROI')\n",
    "plt.show()"
   ]
  },
  {
   "cell_type": "markdown",
   "metadata": {},
   "source": [
    "#### As total sales amount goes up, ROI generally goes down, so it is not easy to maintain a high ROI while increasing sales"
   ]
  },
  {
   "cell_type": "markdown",
   "metadata": {},
   "source": [
    "### Objective 4: Find out the trend and seasonality of total sales and total gross profits."
   ]
  },
  {
   "cell_type": "code",
   "execution_count": 30,
   "metadata": {},
   "outputs": [],
   "source": [
    "# First we need to build a table with Date, total sales, and total gross profits.\n",
    "# We can get the table from \"Transaction\".\n",
    "df_Time = pd.read_sql(\"\"\"SELECT Transaction.Date,\n",
    "\n",
    "ROUND(SUM(Transaction.Total_Units * Transaction.Sale_Price),1) AS totalsales,\n",
    "\n",
    "ROUND(SUM(Transaction.Total_Units * (Transaction.Sale_Price - Transaction.Cost_Price)),1) AS totalprofits\n",
    " \n",
    "FROM Transaction\n",
    "\n",
    "GROUP BY Date\n",
    "ORDER BY Date\"\"\", conn)"
   ]
  },
  {
   "cell_type": "code",
   "execution_count": 31,
   "metadata": {},
   "outputs": [
    {
     "data": {
      "text/html": [
       "<div>\n",
       "<style scoped>\n",
       "    .dataframe tbody tr th:only-of-type {\n",
       "        vertical-align: middle;\n",
       "    }\n",
       "\n",
       "    .dataframe tbody tr th {\n",
       "        vertical-align: top;\n",
       "    }\n",
       "\n",
       "    .dataframe thead th {\n",
       "        text-align: right;\n",
       "    }\n",
       "</style>\n",
       "<table border=\"1\" class=\"dataframe\">\n",
       "  <thead>\n",
       "    <tr style=\"text-align: right;\">\n",
       "      <th></th>\n",
       "      <th>Date</th>\n",
       "      <th>totalsales</th>\n",
       "      <th>totalprofits</th>\n",
       "    </tr>\n",
       "  </thead>\n",
       "  <tbody>\n",
       "    <tr>\n",
       "      <th>0</th>\n",
       "      <td>2016-01-01</td>\n",
       "      <td>2141301.6</td>\n",
       "      <td>746215.2</td>\n",
       "    </tr>\n",
       "    <tr>\n",
       "      <th>1</th>\n",
       "      <td>2016-02-01</td>\n",
       "      <td>2461253.2</td>\n",
       "      <td>968277.4</td>\n",
       "    </tr>\n",
       "    <tr>\n",
       "      <th>2</th>\n",
       "      <td>2016-03-01</td>\n",
       "      <td>2725101.9</td>\n",
       "      <td>1149131.0</td>\n",
       "    </tr>\n",
       "    <tr>\n",
       "      <th>3</th>\n",
       "      <td>2016-04-01</td>\n",
       "      <td>3207172.0</td>\n",
       "      <td>1436303.1</td>\n",
       "    </tr>\n",
       "    <tr>\n",
       "      <th>4</th>\n",
       "      <td>2016-05-01</td>\n",
       "      <td>2460736.6</td>\n",
       "      <td>1044024.4</td>\n",
       "    </tr>\n",
       "    <tr>\n",
       "      <th>5</th>\n",
       "      <td>2016-06-01</td>\n",
       "      <td>2744256.3</td>\n",
       "      <td>1170825.5</td>\n",
       "    </tr>\n",
       "    <tr>\n",
       "      <th>6</th>\n",
       "      <td>2016-07-01</td>\n",
       "      <td>3183413.0</td>\n",
       "      <td>1259860.9</td>\n",
       "    </tr>\n",
       "    <tr>\n",
       "      <th>7</th>\n",
       "      <td>2016-08-01</td>\n",
       "      <td>3440382.9</td>\n",
       "      <td>1537606.2</td>\n",
       "    </tr>\n",
       "    <tr>\n",
       "      <th>8</th>\n",
       "      <td>2016-09-01</td>\n",
       "      <td>3777031.9</td>\n",
       "      <td>1747985.0</td>\n",
       "    </tr>\n",
       "    <tr>\n",
       "      <th>9</th>\n",
       "      <td>2016-10-01</td>\n",
       "      <td>2645544.8</td>\n",
       "      <td>1209950.4</td>\n",
       "    </tr>\n",
       "    <tr>\n",
       "      <th>10</th>\n",
       "      <td>2016-11-01</td>\n",
       "      <td>2832467.6</td>\n",
       "      <td>1218872.7</td>\n",
       "    </tr>\n",
       "    <tr>\n",
       "      <th>11</th>\n",
       "      <td>2016-12-01</td>\n",
       "      <td>3222946.1</td>\n",
       "      <td>1335356.8</td>\n",
       "    </tr>\n",
       "    <tr>\n",
       "      <th>12</th>\n",
       "      <td>2017-01-01</td>\n",
       "      <td>1981071.7</td>\n",
       "      <td>629854.7</td>\n",
       "    </tr>\n",
       "    <tr>\n",
       "      <th>13</th>\n",
       "      <td>2017-02-01</td>\n",
       "      <td>2751975.6</td>\n",
       "      <td>1139538.7</td>\n",
       "    </tr>\n",
       "    <tr>\n",
       "      <th>14</th>\n",
       "      <td>2017-03-01</td>\n",
       "      <td>3849907.7</td>\n",
       "      <td>1781119.4</td>\n",
       "    </tr>\n",
       "    <tr>\n",
       "      <th>15</th>\n",
       "      <td>2017-04-01</td>\n",
       "      <td>2695012.4</td>\n",
       "      <td>1233035.4</td>\n",
       "    </tr>\n",
       "    <tr>\n",
       "      <th>16</th>\n",
       "      <td>2017-05-01</td>\n",
       "      <td>2754360.1</td>\n",
       "      <td>1181420.5</td>\n",
       "    </tr>\n",
       "    <tr>\n",
       "      <th>17</th>\n",
       "      <td>2017-06-01</td>\n",
       "      <td>3180498.8</td>\n",
       "      <td>1317136.2</td>\n",
       "    </tr>\n",
       "    <tr>\n",
       "      <th>18</th>\n",
       "      <td>2017-07-01</td>\n",
       "      <td>2420553.7</td>\n",
       "      <td>994045.7</td>\n",
       "    </tr>\n",
       "    <tr>\n",
       "      <th>19</th>\n",
       "      <td>2017-08-01</td>\n",
       "      <td>6367739.4</td>\n",
       "      <td>2760853.8</td>\n",
       "    </tr>\n",
       "  </tbody>\n",
       "</table>\n",
       "</div>"
      ],
      "text/plain": [
       "         Date  totalsales  totalprofits\n",
       "0  2016-01-01   2141301.6      746215.2\n",
       "1  2016-02-01   2461253.2      968277.4\n",
       "2  2016-03-01   2725101.9     1149131.0\n",
       "3  2016-04-01   3207172.0     1436303.1\n",
       "4  2016-05-01   2460736.6     1044024.4\n",
       "5  2016-06-01   2744256.3     1170825.5\n",
       "6  2016-07-01   3183413.0     1259860.9\n",
       "7  2016-08-01   3440382.9     1537606.2\n",
       "8  2016-09-01   3777031.9     1747985.0\n",
       "9  2016-10-01   2645544.8     1209950.4\n",
       "10 2016-11-01   2832467.6     1218872.7\n",
       "11 2016-12-01   3222946.1     1335356.8\n",
       "12 2017-01-01   1981071.7      629854.7\n",
       "13 2017-02-01   2751975.6     1139538.7\n",
       "14 2017-03-01   3849907.7     1781119.4\n",
       "15 2017-04-01   2695012.4     1233035.4\n",
       "16 2017-05-01   2754360.1     1181420.5\n",
       "17 2017-06-01   3180498.8     1317136.2\n",
       "18 2017-07-01   2420553.7      994045.7\n",
       "19 2017-08-01   6367739.4     2760853.8"
      ]
     },
     "execution_count": 31,
     "metadata": {},
     "output_type": "execute_result"
    }
   ],
   "source": [
    "df_Time"
   ]
  },
  {
   "cell_type": "code",
   "execution_count": 32,
   "metadata": {},
   "outputs": [
    {
     "data": {
      "text/plain": [
       "(array([735964., 736024., 736085., 736146., 736208., 736269., 736330.,\n",
       "        736389., 736450., 736511.]), <a list of 10 Text xticklabel objects>)"
      ]
     },
     "execution_count": 32,
     "metadata": {},
     "output_type": "execute_result"
    },
    {
     "data": {
      "image/png": "[encoded data removed]",
      "text/plain": [
       "<Figure size 432x288 with 1 Axes>"
      ]
     },
     "metadata": {},
     "output_type": "display_data"
    }
   ],
   "source": [
    "sns.set_style(\"darkgrid\")\n",
    "sns.lineplot(x = \"Date\", y = \"totalsales\", data = df_Time) \n",
    "sns.lineplot(x = \"Date\", y = \"totalprofits\", data = df_Time) \n",
    "plt.ylabel(\"Dollars\") \n",
    "plt.xticks(rotation = 25)"
   ]
  },
  {
   "cell_type": "markdown",
   "metadata": {},
   "source": [
    "### From the time plot we can see that for each year, the sales peaks in March and september, and reaches the vally in May. Finally, there is an upward trend."
   ]
  },
  {
   "cell_type": "code",
   "execution_count": 33,
   "metadata": {},
   "outputs": [
    {
     "name": "stderr",
     "output_type": "stream",
     "text": [
      "C:\\Users\\30523\\Anaconda3\\lib\\site-packages\\ipykernel_launcher.py:3: FutureWarning: the 'freq'' keyword is deprecated, use 'period' instead\n",
      "  This is separate from the ipykernel package so we can avoid doing imports until\n",
      "C:\\Users\\30523\\Anaconda3\\lib\\site-packages\\matplotlib\\figure.py:445: UserWarning: Matplotlib is currently using module://ipykernel.pylab.backend_inline, which is a non-GUI backend, so cannot show the figure.\n",
      "  % get_backend())\n"
     ]
    },
    {
     "data": {
      "text/plain": [
       "<Figure size 1152x864 with 0 Axes>"
      ]
     },
     "metadata": {},
     "output_type": "display_data"
    },
    {
     "data": {
      "image/png": "[encoded data removed]",
      "text/plain": [
       "<Figure size 432x288 with 4 Axes>"
      ]
     },
     "metadata": {},
     "output_type": "display_data"
    }
   ],
   "source": [
    "import statsmodels.api as sm\n",
    "# See if the multiplicative model fits\n",
    "res = sm.tsa.seasonal_decompose(df_Time.totalsales,freq=3,model=\"additive\")\n",
    "plt.figure(figsize=(16,12))\n",
    "fig = res.plot()\n",
    "fig.show()"
   ]
  },
  {
   "cell_type": "markdown",
   "metadata": {},
   "source": [
    "### It seems like a log of any number lower than 12 cannot explain both the trend and seasonality well."
   ]
  }
 ],
 "metadata": {
  "kernelspec": {
   "display_name": "Python 3",
   "language": "python",
   "name": "python3"
  },
  "language_info": {
   "codemirror_mode": {
    "name": "ipython",
    "version": 3
   },
   "file_extension": ".py",
   "mimetype": "text/x-python",
   "name": "python",
   "nbconvert_exporter": "python",
   "pygments_lexer": "ipython3",
   "version": "3.7.1"
  }
 },
 "nbformat": 4,
 "nbformat_minor": 2
}
